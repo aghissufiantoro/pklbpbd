{
 "cells": [
  {
   "cell_type": "code",
   "execution_count": 24,
   "metadata": {},
   "outputs": [],
   "source": [
    "import pandas as pd\n",
    "from simpledbf import Dbf5\n",
    "# from sqlalchemy import create_engine\n",
    "import pymysql"
   ]
  },
  {
   "cell_type": "code",
   "execution_count": 25,
   "metadata": {},
   "outputs": [],
   "source": [
    "# Membaca file DBF\n",
    "dbf = Dbf5('BATAS_DESA_DESEMBER_2019_DUKCAPIL_JAWA_TIMUR.dbf')\n",
    "df = dbf.to_dataframe()\n",
    "\n",
    "# Membaca file csv\n",
    "df2 = pd.read_csv(\"pembagian_wilayah_sby.csv\")"
   ]
  },
  {
   "cell_type": "code",
   "execution_count": 26,
   "metadata": {},
   "outputs": [],
   "source": [
    "df = df[['DESA','PROVINSI','KAB_KOTA','KECAMATAN']]\n",
    "df = df[df['KAB_KOTA']=='KOTA SURABAYA']\n",
    "df['KAB_KOTA'] = df['KAB_KOTA'].str.replace('KOTA ', '')\n",
    "df = df.reset_index(drop=True)\n",
    "df.to_csv('CEK.csv', index=False)"
   ]
  },
  {
   "cell_type": "code",
   "execution_count": 27,
   "metadata": {},
   "outputs": [],
   "source": [
    "merged_data = pd.merge(df, df2, on='KECAMATAN', how='left')\n",
    "\n",
    "# Mengatur kolom yang ingin ditampilkan\n",
    "merged_data = merged_data[['DESA', 'PROVINSI', 'KAB_KOTA', 'KECAMATAN', 'WILAYAH']]\n",
    "\n",
    "# Menyimpan hasil gabungan ke file CSV baru\n",
    "merged_data.to_csv('fix_data.csv', index=False)"
   ]
  },
  {
   "cell_type": "code",
   "execution_count": 28,
   "metadata": {},
   "outputs": [],
   "source": [
    "# # Load ke db\n",
    "# engine = create_engine('mysql+pymysql://root:@localhost:3306/db_bpbd')\n",
    "\n",
    "# # Tulis DataFrame ke dalam tabel SQL\n",
    "# merged_data.to_sql('wilayah_2022', con=engine, if_exists='replace', index=False)"
   ]
  },
  {
   "cell_type": "code",
   "execution_count": 29,
   "metadata": {},
   "outputs": [],
   "source": [
    "def write_dataframe_to_mysql(df, table_name, conn):\n",
    "    cursor = conn.cursor()\n",
    "    \n",
    "    # Drop tabel jika sudah ada\n",
    "    drop_table_query = f\"DROP TABLE IF EXISTS {table_name}\"\n",
    "    cursor.execute(drop_table_query)\n",
    "    \n",
    "    # Buat string untuk perintah SQL untuk membuat tabel baru\n",
    "    columns = \", \".join([f\"`{col}` TEXT\" for col in df.columns])\n",
    "    create_table_query = f\"CREATE TABLE {table_name} ({columns})\"\n",
    "    cursor.execute(create_table_query)\n",
    "    \n",
    "    # Buat string untuk perintah SQL untuk memasukkan data\n",
    "    insert_query = f\"INSERT INTO {table_name} VALUES ({', '.join(['%s'] * len(df.columns))})\"\n",
    "    \n",
    "    # Insert data\n",
    "    for i, row in df.iterrows():\n",
    "        cursor.execute(insert_query, tuple(row))\n",
    "    \n",
    "    conn.commit()\n",
    "    cursor.close()\n"
   ]
  },
  {
   "cell_type": "code",
   "execution_count": 30,
   "metadata": {},
   "outputs": [],
   "source": [
    "# Buat koneksi ke database MySQL\n",
    "connection = pymysql.connect(\n",
    "    host='localhost',\n",
    "    user='root',\n",
    "    password='',\n",
    "    db='db_bpbd'\n",
    ")\n",
    "\n",
    "# Tulis DataFrame ke dalam tabel SQL\n",
    "write_dataframe_to_mysql(merged_data, 'wilayah_2022', connection)\n",
    "\n",
    "# Tutup koneksi\n",
    "connection.close()\n"
   ]
  }
 ],
 "metadata": {
  "kernelspec": {
   "display_name": "Python 3",
   "language": "python",
   "name": "python3"
  },
  "language_info": {
   "codemirror_mode": {
    "name": "ipython",
    "version": 3
   },
   "file_extension": ".py",
   "mimetype": "text/x-python",
   "name": "python",
   "nbconvert_exporter": "python",
   "pygments_lexer": "ipython3",
   "version": "3.12.2"
  }
 },
 "nbformat": 4,
 "nbformat_minor": 2
}
